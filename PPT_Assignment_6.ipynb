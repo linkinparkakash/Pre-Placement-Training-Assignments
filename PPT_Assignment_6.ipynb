{
  "nbformat": 4,
  "nbformat_minor": 0,
  "metadata": {
    "colab": {
      "provenance": []
    },
    "kernelspec": {
      "name": "python3",
      "display_name": "Python 3"
    },
    "language_info": {
      "name": "python"
    }
  },
  "cells": [
    {
      "cell_type": "code",
      "execution_count": 1,
      "metadata": {
        "colab": {
          "base_uri": "https://localhost:8080/"
        },
        "id": "_uLfANZuvNhI",
        "outputId": "2281d18b-ec28-4f06-95df-ef3523c8d975"
      },
      "outputs": [
        {
          "output_type": "stream",
          "name": "stdout",
          "text": [
            "[0, 4, 1, 3, 2]\n"
          ]
        }
      ],
      "source": [
        "\"\"\"\n",
        "💡 **Question 1**\n",
        "\n",
        "A permutation perm of n + 1 integers of all the integers in the range [0, n] can be represented as a string s of length n where:\n",
        "\n",
        "- s[i] == 'I' if perm[i] < perm[i + 1], and\n",
        "- s[i] == 'D' if perm[i] > perm[i + 1].\n",
        "\n",
        "Given a string s, reconstruct the permutation perm and return it. If there are multiple valid permutations perm, return **any of them**.\n",
        "\n",
        "**Example 1:**\n",
        "\n",
        "**Input:** s = \"IDID\"\n",
        "\n",
        "**Output:**\n",
        "\n",
        "[0,4,1,3,2]\n",
        "\"\"\"\n",
        "\n",
        "# Soltution\n",
        "\n",
        "def reconstructPermutation(s):\n",
        "    perm = []\n",
        "    low, high = 0, len(s)\n",
        "    \n",
        "    for ch in s:\n",
        "        if ch == 'I':\n",
        "            perm.append(low)\n",
        "            low += 1\n",
        "        elif ch == 'D':\n",
        "            perm.append(high)\n",
        "            high -= 1\n",
        "    \n",
        "    perm.append(low)\n",
        "    return perm\n",
        "s = \"IDID\"\n",
        "reconstructed_perm = reconstructPermutation(s)\n",
        "print(reconstructed_perm)"
      ]
    },
    {
      "cell_type": "code",
      "source": [
        "\"\"\"\n",
        "💡 **Question 2**\n",
        "\n",
        "You are given an m x n integer matrix matrix with the following two properties:\n",
        "\n",
        "- Each row is sorted in non-decreasing order.\n",
        "- The first integer of each row is greater than the last integer of the previous row.\n",
        "\n",
        "Given an integer target, return true *if* target *is in* matrix *or* false *otherwise*.\n",
        "\n",
        "You must write a solution in O(log(m * n)) time complexity.\n",
        "\n",
        "**Example 1:**\n",
        "\n",
        "**Input:** matrix = [[1,3,5,7],[10,11,16,20],[23,30,34,60]], target = 3\n",
        "\n",
        "**Output:** true\n",
        "\"\"\"\n",
        "\n",
        "# Solution\n",
        "\n",
        "def searchMatrix(matrix, target):\n",
        "    m, n = len(matrix), len(matrix[0])\n",
        "    left, right = 0, m * n - 1\n",
        "    \n",
        "    while left <= right:\n",
        "        mid = (left + right) // 2\n",
        "        row, col = mid // n, mid % n\n",
        "        mid_value = matrix[row][col]\n",
        "        \n",
        "        if mid_value == target:\n",
        "            return True\n",
        "        elif mid_value > target:\n",
        "            right = mid - 1\n",
        "        else:\n",
        "            left = mid + 1\n",
        "    \n",
        "    return False\n",
        "matrix = [[1, 3, 5, 7], [10, 11, 16, 20], [23, 30, 34, 60]]\n",
        "target = 3\n",
        "found = searchMatrix(matrix, target)\n",
        "print(found)"
      ],
      "metadata": {
        "colab": {
          "base_uri": "https://localhost:8080/"
        },
        "id": "NdulEzC6vbwq",
        "outputId": "c44cbc16-765a-490c-d415-1bdabe50fa45"
      },
      "execution_count": 2,
      "outputs": [
        {
          "output_type": "stream",
          "name": "stdout",
          "text": [
            "True\n"
          ]
        }
      ]
    },
    {
      "cell_type": "code",
      "source": [
        "\"\"\"\n",
        "💡 **Question 3**\n",
        "\n",
        "Given an array of integers arr, return *true if and only if it is a valid mountain array*.\n",
        "\n",
        "Recall that arr is a mountain array if and only if:\n",
        "\n",
        "- arr.length >= 3\n",
        "- There exists some i with 0 < i < arr.length - 1 such that:\n",
        "    - arr[0] < arr[1] < ... < arr[i - 1] < arr[i]\n",
        "    - arr[i] > arr[i + 1] > ... > arr[arr.length - 1]\n",
        "**Example 1:**\n",
        "\n",
        "**Input:** arr = [2,1]\n",
        "\n",
        "**Output:**\n",
        "\n",
        "false\n",
        "\"\"\"\n",
        "\n",
        "# Solution\n",
        "\n",
        "def validMountainArray(arr):\n",
        "    n = len(arr)\n",
        "    \n",
        "    if n < 3:\n",
        "        return False\n",
        "    \n",
        "    i = 1\n",
        "    while i < n and arr[i] > arr[i-1]:\n",
        "        i += 1\n",
        "    \n",
        "    if i == 1 or i == n:\n",
        "        return False\n",
        "    \n",
        "    while i < n and arr[i] < arr[i-1]:\n",
        "        i += 1\n",
        "    \n",
        "    return i == n\n",
        "arr = [2, 1]\n",
        "isValidMountain = validMountainArray(arr)\n",
        "print(isValidMountain)"
      ],
      "metadata": {
        "colab": {
          "base_uri": "https://localhost:8080/"
        },
        "id": "88TVkWrIvqdp",
        "outputId": "f69beebd-25f6-435a-9076-860d02b7e2f5"
      },
      "execution_count": 3,
      "outputs": [
        {
          "output_type": "stream",
          "name": "stdout",
          "text": [
            "False\n"
          ]
        }
      ]
    },
    {
      "cell_type": "code",
      "source": [
        "\"\"\"\n",
        "💡 **Question 4**\n",
        "\n",
        "Given a binary array nums, return *the maximum length of a contiguous subarray with an equal number of* 0 *and* 1.\n",
        "\n",
        "**Example 1:**\n",
        "\n",
        "**Input:** nums = [0,1]\n",
        "\n",
        "**Output:** 2\n",
        "\n",
        "**Explanation:**\n",
        "\n",
        "[0, 1] is the longest contiguous subarray with an equal number of 0 and 1.\n",
        "\n",
        "\"\"\"\n",
        "\n",
        "# Solution\n",
        "\n",
        "def findMaxLength(nums):\n",
        "    max_length = 0\n",
        "    count = 0\n",
        "    count_map = {0: -1}\n",
        "    \n",
        "    for i in range(len(nums)):\n",
        "        if nums[i] == 1:\n",
        "            count += 1\n",
        "        else:\n",
        "            count -= 1\n",
        "        \n",
        "        if count in count_map:\n",
        "            length = i - count_map[count]\n",
        "            max_length = max(max_length, length)\n",
        "        else:\n",
        "            count_map[count] = i\n",
        "    \n",
        "    return max_length\n",
        "nums = [0, 1]\n",
        "max_length = findMaxLength(nums)\n",
        "print(max_length)"
      ],
      "metadata": {
        "colab": {
          "base_uri": "https://localhost:8080/"
        },
        "id": "XFEf-xIbv610",
        "outputId": "81a76774-b538-4521-e56b-8a93fe76a5ab"
      },
      "execution_count": 4,
      "outputs": [
        {
          "output_type": "stream",
          "name": "stdout",
          "text": [
            "2\n"
          ]
        }
      ]
    },
    {
      "cell_type": "code",
      "source": [
        "\"\"\"\n",
        "💡 **Question 5**\n",
        "\n",
        "The **product sum** of two equal-length arrays a and b is equal to the sum of a[i] * b[i] for all 0 <= i < a.length (**0-indexed**).\n",
        "\n",
        "- For example, if a = [1,2,3,4] and b = [5,2,3,1], the **product sum** would be 1*5 + 2*2 + 3*3 + 4*1 = 22.\n",
        "\n",
        "Given two arrays nums1 and nums2 of length n, return *the **minimum product sum** if you are allowed to **rearrange** the **order** of the elements in* nums1.\n",
        "\n",
        "**Example 1:**\n",
        "\n",
        "**Input:** nums1 = [5,3,4,2], nums2 = [4,2,2,5]\n",
        "\n",
        "**Output:** 40\n",
        "\n",
        "**Explanation:**\n",
        "\n",
        "We can rearrange nums1 to become [3,5,4,2]. The product sum of [3,5,4,2] and [4,2,2,5] is 3*4 + 5*2 + 4*2 + 2*5 = 40.\n",
        "\"\"\"\n",
        "\n",
        "# Solution\n",
        "\n",
        "def minProductSum(nums1, nums2):\n",
        "    nums1.sort()\n",
        "    nums2.sort(reverse=True)\n",
        "    min_product_sum = 0\n",
        "    \n",
        "    for i in range(len(nums1)):\n",
        "        min_product_sum += nums1[i] * nums2[i]\n",
        "    \n",
        "    return min_product_sum\n",
        "nums1 = [5, 3, 4, 2]\n",
        "nums2 = [4, 2, 2, 5]\n",
        "min_product = minProductSum(nums1, nums2)\n",
        "print(min_product)"
      ],
      "metadata": {
        "colab": {
          "base_uri": "https://localhost:8080/"
        },
        "id": "lDBR2crRwGcc",
        "outputId": "b755cbfc-69a9-49f0-e78b-257256778e88"
      },
      "execution_count": 5,
      "outputs": [
        {
          "output_type": "stream",
          "name": "stdout",
          "text": [
            "40\n"
          ]
        }
      ]
    },
    {
      "cell_type": "code",
      "source": [
        "\"\"\"\n",
        "💡 **Question 6**\n",
        "\n",
        "An integer array original is transformed into a **doubled** array changed by appending **twice the value** of every element in original, and then randomly **shuffling** the resulting array.\n",
        "\n",
        "Given an array changed, return original *if* changed *is a **doubled** array. If* changed *is not a **doubled** array, return an empty array. The elements in* original *may be returned in **any** order*.\n",
        "\n",
        "**Example 1:**\n",
        "\n",
        "**Input:** changed = [1,3,4,2,6,8]\n",
        "\n",
        "**Output:** [1,3,4]\n",
        "\n",
        "**Explanation:** One possible original array could be [1,3,4]:\n",
        "\n",
        "- Twice the value of 1 is 1 * 2 = 2.\n",
        "- Twice the value of 3 is 3 * 2 = 6.\n",
        "- Twice the value of 4 is 4 * 2 = 8.\n",
        "\n",
        "Other original arrays could be [4,3,1] or [3,1,4].\n",
        "\"\"\"\n",
        "\n",
        "# Solution\n",
        "\n",
        "def findOriginalArray(changed):\n",
        "    count_map = {}\n",
        "    \n",
        "    for num in changed:\n",
        "        count_map[num] = count_map.get(num, 0) + 1\n",
        "    \n",
        "    original = []\n",
        "    \n",
        "    for num in changed:\n",
        "        if count_map.get(num, 0) >= 2:\n",
        "            original.append(num // 2)\n",
        "            count_map[num] -= 1\n",
        "            if count_map[num] == 0:\n",
        "                del count_map[num]\n",
        "            if num // 2 not in count_map:\n",
        "                return []\n",
        "    \n",
        "    return original\n",
        "changed = [1, 3, 4, 2, 6, 8]\n",
        "original = findOriginalArray(changed)\n",
        "print(original)"
      ],
      "metadata": {
        "colab": {
          "base_uri": "https://localhost:8080/"
        },
        "id": "9FOOma5JwSyg",
        "outputId": "58924c71-7b01-4810-d1e4-b6f13f28cbc6"
      },
      "execution_count": 6,
      "outputs": [
        {
          "output_type": "stream",
          "name": "stdout",
          "text": [
            "[]\n"
          ]
        }
      ]
    },
    {
      "cell_type": "code",
      "source": [
        "\"\"\"\n",
        "💡 **Question 7**\n",
        "\n",
        "Given a positive integer n, generate an n x n matrix filled with elements from 1 to n2 in spiral order.\n",
        "\n",
        "**Example 1:**\n",
        "**Input:** n = 3\n",
        "\n",
        "**Output:** [[1,2,3],[8,9,4],[7,6,5]]\n",
        "\"\"\"\n",
        "\n",
        "# Solution\n",
        "\n",
        "def generateMatrix(n):\n",
        "    matrix = [[0] * n for _ in range(n)]\n",
        "    value = 1\n",
        "    row, col = 0, 0\n",
        "    start_row, end_row = 0, n - 1\n",
        "    start_col, end_col = 0, n - 1\n",
        "    \n",
        "    while value <= n * n:\n",
        "        # Fill top row\n",
        "        for j in range(start_col, end_col + 1):\n",
        "            matrix[start_row][j] = value\n",
        "            value += 1\n",
        "        row += 1\n",
        "        start_row = row\n",
        "        \n",
        "        # Fill right column\n",
        "        for i in range(start_row, end_row + 1):\n",
        "            matrix[i][end_col] = value\n",
        "            value += 1\n",
        "        col -= 1\n",
        "        end_col = col\n",
        "        \n",
        "        # Fill bottom row\n",
        "        for j in range(end_col, start_col - 1, -1):\n",
        "            matrix[end_row][j] = value\n",
        "            value += 1\n",
        "        row -= 1\n",
        "        end_row = row\n",
        "        \n",
        "        # Fill left column\n",
        "        for i in range(end_row, start_row - 1, -1):\n",
        "            matrix[i][start_col] = value\n",
        "            value += 1\n",
        "        col += 1\n",
        "        start_col = col\n",
        "    \n",
        "    return matrix\n",
        "n = 3\n",
        "spiral_matrix = generateMatrix(n)\n",
        "print(spiral_matrix)"
      ],
      "metadata": {
        "colab": {
          "base_uri": "https://localhost:8080/",
          "height": 339
        },
        "id": "uxzO6zicweb0",
        "outputId": "fc511d90-0dcc-4721-8153-6696a23bcd3e"
      },
      "execution_count": 9,
      "outputs": [
        {
          "output_type": "error",
          "ename": "KeyboardInterrupt",
          "evalue": "ignored",
          "traceback": [
            "\u001b[0;31m---------------------------------------------------------------------------\u001b[0m",
            "\u001b[0;31mKeyboardInterrupt\u001b[0m                         Traceback (most recent call last)",
            "\u001b[0;32m<ipython-input-9-d7b47fd4454c>\u001b[0m in \u001b[0;36m<cell line: 52>\u001b[0;34m()\u001b[0m\n\u001b[1;32m     50\u001b[0m     \u001b[0;32mreturn\u001b[0m \u001b[0mmatrix\u001b[0m\u001b[0;34m\u001b[0m\u001b[0;34m\u001b[0m\u001b[0m\n\u001b[1;32m     51\u001b[0m \u001b[0mn\u001b[0m \u001b[0;34m=\u001b[0m \u001b[0;36m3\u001b[0m\u001b[0;34m\u001b[0m\u001b[0;34m\u001b[0m\u001b[0m\n\u001b[0;32m---> 52\u001b[0;31m \u001b[0mspiral_matrix\u001b[0m \u001b[0;34m=\u001b[0m \u001b[0mgenerateMatrix\u001b[0m\u001b[0;34m(\u001b[0m\u001b[0mn\u001b[0m\u001b[0;34m)\u001b[0m\u001b[0;34m\u001b[0m\u001b[0;34m\u001b[0m\u001b[0m\n\u001b[0m\u001b[1;32m     53\u001b[0m \u001b[0mprint\u001b[0m\u001b[0;34m(\u001b[0m\u001b[0mspiral_matrix\u001b[0m\u001b[0;34m)\u001b[0m\u001b[0;34m\u001b[0m\u001b[0;34m\u001b[0m\u001b[0m\n",
            "\u001b[0;32m<ipython-input-9-d7b47fd4454c>\u001b[0m in \u001b[0;36mgenerateMatrix\u001b[0;34m(n)\u001b[0m\n\u001b[1;32m     35\u001b[0m \u001b[0;34m\u001b[0m\u001b[0m\n\u001b[1;32m     36\u001b[0m         \u001b[0;31m# Fill bottom row\u001b[0m\u001b[0;34m\u001b[0m\u001b[0;34m\u001b[0m\u001b[0m\n\u001b[0;32m---> 37\u001b[0;31m         \u001b[0;32mfor\u001b[0m \u001b[0mj\u001b[0m \u001b[0;32min\u001b[0m \u001b[0mrange\u001b[0m\u001b[0;34m(\u001b[0m\u001b[0mend_col\u001b[0m\u001b[0;34m,\u001b[0m \u001b[0mstart_col\u001b[0m \u001b[0;34m-\u001b[0m \u001b[0;36m1\u001b[0m\u001b[0;34m,\u001b[0m \u001b[0;34m-\u001b[0m\u001b[0;36m1\u001b[0m\u001b[0;34m)\u001b[0m\u001b[0;34m:\u001b[0m\u001b[0;34m\u001b[0m\u001b[0;34m\u001b[0m\u001b[0m\n\u001b[0m\u001b[1;32m     38\u001b[0m             \u001b[0mmatrix\u001b[0m\u001b[0;34m[\u001b[0m\u001b[0mend_row\u001b[0m\u001b[0;34m]\u001b[0m\u001b[0;34m[\u001b[0m\u001b[0mj\u001b[0m\u001b[0;34m]\u001b[0m \u001b[0;34m=\u001b[0m \u001b[0mvalue\u001b[0m\u001b[0;34m\u001b[0m\u001b[0;34m\u001b[0m\u001b[0m\n\u001b[1;32m     39\u001b[0m             \u001b[0mvalue\u001b[0m \u001b[0;34m+=\u001b[0m \u001b[0;36m1\u001b[0m\u001b[0;34m\u001b[0m\u001b[0;34m\u001b[0m\u001b[0m\n",
            "\u001b[0;31mKeyboardInterrupt\u001b[0m: "
          ]
        }
      ]
    },
    {
      "cell_type": "code",
      "source": [
        "\"\"\"\n",
        "<aside>\n",
        "💡 **Question 8**\n",
        "\n",
        "Given two [sparse matrices](https://en.wikipedia.org/wiki/Sparse_matrix) mat1 of size m x k and mat2 of size k x n, return the result of mat1 x mat2. You may assume that multiplication is always possible.\n",
        "\n",
        "**Example 1:**\n",
        "**Input:** mat1 = [[1,0,0],[-1,0,3]], mat2 = [[7,0,0],[0,0,0],[0,0,1]]\n",
        "\n",
        "**Output:**\n",
        "\n",
        "[[7,0,0],[-7,0,3]]\n",
        "\"\"\"\n",
        "\n",
        "# Solution\n",
        "\n",
        "def multiply(mat1, mat2):\n",
        "    m, k, n = len(mat1), len(mat1[0]), len(mat2[0])\n",
        "    result = [[0] * n for _ in range(m)]\n",
        "    \n",
        "    for i in range(m):\n",
        "        for j in range(n):\n",
        "            for x in range(k):\n",
        "                if mat1[i][x] != 0 and mat2[x][j] != 0:\n",
        "                    result[i][j] += mat1[i][x] * mat2[x][j]\n",
        "    \n",
        "    return result\n",
        "mat1 = [[1, 0, 0], [-1, 0, 3]]\n",
        "mat2 = [[7, 0, 0], [0, 0, 0], [0, 0, 1]]\n",
        "result = multiply(mat1, mat2)\n",
        "print(result)"
      ],
      "metadata": {
        "colab": {
          "base_uri": "https://localhost:8080/"
        },
        "id": "xiqM66p8wobh",
        "outputId": "999fc56f-1d42-41d4-fc46-1ac29b4df2fe"
      },
      "execution_count": 10,
      "outputs": [
        {
          "output_type": "stream",
          "name": "stdout",
          "text": [
            "[[7, 0, 0], [-7, 0, 3]]\n"
          ]
        }
      ]
    },
    {
      "cell_type": "code",
      "source": [],
      "metadata": {
        "id": "LP2ryuCvxPu2"
      },
      "execution_count": null,
      "outputs": []
    }
  ]
}