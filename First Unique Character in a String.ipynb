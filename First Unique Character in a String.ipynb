{
  "cells": [
    {
      "cell_type": "code",
      "source": [
        "def firstUniqChar(s):\n",
        "    # Step 1: Count the frequency of characters\n",
        "    char_freq = {}\n",
        "    for char in s:\n",
        "        char_freq[char] = char_freq.get(char, 0) + 1\n",
        "    \n",
        "    # Step 2: Find the first non-repeating character\n",
        "    for i in range(len(s)):\n",
        "        if char_freq[s[i]] == 1:\n",
        "            return i\n",
        "    \n",
        "    return -1\n",
        "\n",
        "# Test the function\n",
        "s = \"leetcode\"\n",
        "print(firstUniqChar(s))  # Output: 0\n",
        "\n",
        "s = \"loveleetcode\"\n",
        "print(firstUniqChar(s))  # Output: 2\n",
        "\n",
        "s = \"aabb\"\n",
        "print(firstUniqChar(s))  # Output: -1"
      ],
      "metadata": {
        "id": "WZb17P--XMpn",
        "outputId": "1257aef9-0fc2-485d-860e-b5b5272271f9",
        "colab": {
          "base_uri": "https://localhost:8080/"
        }
      },
      "execution_count": 1,
      "outputs": [
        {
          "output_type": "stream",
          "name": "stdout",
          "text": [
            "0\n",
            "2\n",
            "-1\n"
          ]
        }
      ]
    },
    {
      "cell_type": "code",
      "source": [],
      "metadata": {
        "id": "tLDoBwxkXPIw"
      },
      "execution_count": null,
      "outputs": []
    }
  ],
  "metadata": {
    "colab": {
      "toc_visible": true,
      "provenance": []
    },
    "kernelspec": {
      "display_name": "Python 3",
      "name": "python3"
    }
  },
  "nbformat": 4,
  "nbformat_minor": 0
}