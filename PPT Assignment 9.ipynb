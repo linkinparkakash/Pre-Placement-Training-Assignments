{
 "cells": [
  {
   "cell_type": "code",
   "execution_count": 1,
   "id": "83aa13e5",
   "metadata": {},
   "outputs": [
    {
     "name": "stdout",
     "output_type": "stream",
     "text": [
      "True\n",
      "True\n",
      "False\n"
     ]
    }
   ],
   "source": [
    "\"\"\"\n",
    "<aside>\n",
    "💡 **Question 1**\n",
    "\n",
    "Given an integer `n`, return *`true` if it is a power of two. Otherwise, return `false`*.\n",
    "\n",
    "An integer `n` is a power of two, if there exists an integer `x` such that `n == 2x`.\n",
    "\n",
    "**Example 1:**\n",
    "Input: n = 1 \n",
    "\n",
    "Output: true\n",
    "\n",
    "**Example 2:**\n",
    "Input: n = 16 \n",
    "\n",
    "Output: true\n",
    "\n",
    "**Example 3:**\n",
    "Input: n = 3 \n",
    "\n",
    "Output: false\n",
    "\n",
    "\"\"\"\n",
    "\n",
    "# Solution\n",
    "\n",
    "def isPowerOfTwo(n):\n",
    "    if n <= 0:\n",
    "        return False\n",
    "\n",
    "    return (n & (n - 1)) == 0\n",
    "n1 = 1\n",
    "print(isPowerOfTwo(n1))  # True\n",
    "\n",
    "n2 = 16\n",
    "print(isPowerOfTwo(n2))  # True\n",
    "\n",
    "n3 = 3\n",
    "print(isPowerOfTwo(n3))  # False"
   ]
  },
  {
   "cell_type": "code",
   "execution_count": 2,
   "id": "cd9e4606",
   "metadata": {},
   "outputs": [
    {
     "name": "stdout",
     "output_type": "stream",
     "text": [
      "6\n",
      "15\n"
     ]
    }
   ],
   "source": [
    "\"\"\"\n",
    "<aside>\n",
    "💡 **Question 2**\n",
    "\n",
    "Given a number n, find the sum of the first natural numbers.\n",
    "\n",
    "**Example 1:**\n",
    "\n",
    "Input: n = 3 \n",
    "\n",
    "Output: 6\n",
    "\n",
    "**Example 2:**\n",
    "\n",
    "Input  : 5 \n",
    "\n",
    "Output : 15\n",
    "\n",
    "\"\"\"\n",
    "\n",
    "# Solution\n",
    "\n",
    "def sumOfNaturalNumbers(n):\n",
    "    sum = n * (n + 1) // 2\n",
    "    return sum\n",
    "n1 = 3\n",
    "print(sumOfNaturalNumbers(n1))  # 6\n",
    "\n",
    "n2 = 5\n",
    "print(sumOfNaturalNumbers(n2))  # 15"
   ]
  },
  {
   "cell_type": "code",
   "execution_count": 3,
   "id": "f4a27f68",
   "metadata": {},
   "outputs": [
    {
     "name": "stdout",
     "output_type": "stream",
     "text": [
      "120\n",
      "24\n"
     ]
    }
   ],
   "source": [
    "\"\"\"\n",
    "<aside>\n",
    "💡 **Question 3**\n",
    "\n",
    "****Given a positive integer, N. Find the factorial of N. \n",
    "\n",
    "**Example 1:**\n",
    "\n",
    "Input: N = 5 \n",
    "\n",
    "Output: 120\n",
    "\n",
    "**Example 2:**\n",
    "\n",
    "Input: N = 4\n",
    "\n",
    "Output: 24\n",
    "\n",
    "\n",
    "\"\"\"\n",
    "\n",
    "# Solution\n",
    "\n",
    "def factorial(N):\n",
    "    if N == 0 or N == 1:\n",
    "        return 1\n",
    "\n",
    "    return N * factorial(N - 1)\n",
    "N1 = 5\n",
    "print(factorial(N1))  # 120\n",
    "\n",
    "N2 = 4\n",
    "print(factorial(N2))  # 24"
   ]
  },
  {
   "cell_type": "code",
   "execution_count": 4,
   "id": "112c2700",
   "metadata": {},
   "outputs": [
    {
     "name": "stdout",
     "output_type": "stream",
     "text": [
      "25\n",
      "32\n"
     ]
    }
   ],
   "source": [
    "\"\"\"\n",
    "<aside>\n",
    "💡 **Question 4**\n",
    "\n",
    "Given a number N and a power P, the task is to find the exponent of this number raised to the given power, i.e. N^P.\n",
    "\n",
    "**Example 1 :** \n",
    "\n",
    "Input: N = 5, P = 2\n",
    "\n",
    "Output: 25\n",
    "\n",
    "**Example 2 :**\n",
    "Input: N = 2, P = 5\n",
    "\n",
    "Output: 32\n",
    "\n",
    "\"\"\"\n",
    "\n",
    "# Solution\n",
    "\n",
    "def exponentiate(N, P):\n",
    "    result = N ** P\n",
    "    return result\n",
    "N1 = 5\n",
    "P1 = 2\n",
    "print(exponentiate(N1, P1))  # 25\n",
    "\n",
    "N2 = 2\n",
    "P2 = 5\n",
    "print(exponentiate(N2, P2))  # 32"
   ]
  },
  {
   "cell_type": "code",
   "execution_count": 5,
   "id": "7094b73c",
   "metadata": {},
   "outputs": [
    {
     "name": "stdout",
     "output_type": "stream",
     "text": [
      "8\n",
      "45\n"
     ]
    }
   ],
   "source": [
    "\"\"\"\n",
    "<aside>\n",
    "💡 **Question 5**\n",
    "\n",
    "Given an array of integers **arr**, the task is to find maximum element of that array using recursion.\n",
    "\n",
    "**Example 1:**\n",
    "\n",
    "Input: arr = {1, 4, 3, -5, -4, 8, 6};\n",
    "Output: 8\n",
    "\n",
    "**Example 2:**\n",
    "\n",
    "Input: arr = {1, 4, 45, 6, 10, -8};\n",
    "Output: 45\n",
    "\n",
    "\"\"\"\n",
    "\n",
    "# Solution\n",
    "\n",
    "def findMax(arr):\n",
    "    if len(arr) == 1:\n",
    "        return arr[0]\n",
    "\n",
    "    max_rest = findMax(arr[1:])\n",
    "    return max(arr[0], max_rest)\n",
    "arr1 = [1, 4, 3, -5, -4, 8, 6]\n",
    "print(findMax(arr1))  # 8\n",
    "\n",
    "arr2 = [1, 4, 45, 6, 10, -8]\n",
    "print(findMax(arr2))  # 45"
   ]
  },
  {
   "cell_type": "code",
   "execution_count": 6,
   "id": "a9a5a354",
   "metadata": {},
   "outputs": [
    {
     "name": "stdout",
     "output_type": "stream",
     "text": [
      "6\n",
      "23\n"
     ]
    }
   ],
   "source": [
    "\"\"\"\n",
    "<aside>\n",
    "💡 **Question 6**\n",
    "\n",
    "Given first term (a), common difference (d) and a integer N of the Arithmetic Progression series, the task is to find Nth term of the series.\n",
    "\n",
    "**Example 1:**\n",
    "\n",
    "Input : a = 2 d = 1 N = 5\n",
    "Output : 6\n",
    "The 5th term of the series is : 6\n",
    "\n",
    "**Example 2:**\n",
    "\n",
    "Input : a = 5 d = 2 N = 10\n",
    "Output : 23\n",
    "The 10th term of the series is : 23\n",
    "\n",
    "\"\"\"\n",
    "\n",
    "# Solution\n",
    "\n",
    "def findNthTerm(a, d, N):\n",
    "    Nth_term = a + (N - 1) * d\n",
    "    return Nth_term\n",
    "a1 = 2\n",
    "d1 = 1\n",
    "N1 = 5\n",
    "print(findNthTerm(a1, d1, N1))  # 6\n",
    "\n",
    "a2 = 5\n",
    "d2 = 2\n",
    "N2 = 10\n",
    "print(findNthTerm(a2, d2, N2))  # 23"
   ]
  },
  {
   "cell_type": "code",
   "execution_count": 8,
   "id": "7b807dba",
   "metadata": {},
   "outputs": [
    {
     "name": "stdout",
     "output_type": "stream",
     "text": [
      "['ABC', 'ACB', 'BAC', 'BCA', 'CAB', 'CBA']\n",
      "['XY', 'YX']\n"
     ]
    }
   ],
   "source": [
    "\"\"\"\n",
    "<aside>\n",
    "💡 **Question 7**\n",
    "\n",
    "Given a string S, the task is to write a program to print all permutations of a given string.\n",
    "\n",
    "**Example 1:**\n",
    "\n",
    "***Input:***\n",
    "\n",
    "*S = “ABC”*\n",
    "\n",
    "***Output:***\n",
    "\n",
    "*“ABC”, “ACB”, “BAC”, “BCA”, “CBA”, “CAB”*\n",
    "\n",
    "**Example 2:**\n",
    "\n",
    "***Input:***\n",
    "\n",
    "*S = “XY”*\n",
    "\n",
    "***Output:***\n",
    "\n",
    "*“XY”, “YX”*\n",
    "\n",
    "\n",
    "\"\"\"\n",
    "\n",
    "# Solution\n",
    "\n",
    "def permute(char_list, current, length, result):\n",
    "    if len(current) == length:\n",
    "        result.append(''.join(current))\n",
    "    else:\n",
    "        for i in range(len(char_list)):\n",
    "            char = char_list.pop(i)\n",
    "            current.append(char)\n",
    "            permute(char_list, current, length, result)\n",
    "            char_list.insert(i, char)\n",
    "            current.pop()\n",
    "\n",
    "def printPermutations(S):\n",
    "    result = []\n",
    "    char_list = list(S)\n",
    "    permute(char_list, [], len(S), result)\n",
    "    return result\n",
    "S1 = \"ABC\"\n",
    "print(printPermutations(S1))  # ['ABC', 'ACB', 'BAC', 'BCA', 'CBA', 'CAB']\n",
    "\n",
    "S2 = \"XY\"\n",
    "print(printPermutations(S2))  # ['XY', 'YX']"
   ]
  },
  {
   "cell_type": "code",
   "execution_count": 9,
   "id": "dda1b92f",
   "metadata": {},
   "outputs": [
    {
     "name": "stdout",
     "output_type": "stream",
     "text": [
      "120\n",
      "18\n"
     ]
    }
   ],
   "source": [
    "\"\"\"\n",
    "<aside>\n",
    "💡 **Question 8**\n",
    "\n",
    "Given an array, find a product of all array elements.\n",
    "\n",
    "**Example 1:**\n",
    "\n",
    "Input  : arr[] = {1, 2, 3, 4, 5}\n",
    "Output : 120\n",
    "**Example 2:**\n",
    "\n",
    "Input  : arr[] = {1, 6, 3}\n",
    "Output : 18\n",
    "\n",
    "\"\"\"\n",
    "\n",
    "# Solution\n",
    "\n",
    "def findProduct(arr):\n",
    "    product = 1\n",
    "    for num in arr:\n",
    "        product *= num\n",
    "    return product\n",
    "arr1 = [1, 2, 3, 4, 5]\n",
    "print(findProduct(arr1))  # 120\n",
    "\n",
    "arr2 = [1, 6, 3]\n",
    "print(findProduct(arr2))  # 18"
   ]
  },
  {
   "cell_type": "code",
   "execution_count": null,
   "id": "746fe2f2",
   "metadata": {},
   "outputs": [],
   "source": []
  }
 ],
 "metadata": {
  "kernelspec": {
   "display_name": "Python 3 (ipykernel)",
   "language": "python",
   "name": "python3"
  },
  "language_info": {
   "codemirror_mode": {
    "name": "ipython",
    "version": 3
   },
   "file_extension": ".py",
   "mimetype": "text/x-python",
   "name": "python",
   "nbconvert_exporter": "python",
   "pygments_lexer": "ipython3",
   "version": "3.10.9"
  }
 },
 "nbformat": 4,
 "nbformat_minor": 5
}
