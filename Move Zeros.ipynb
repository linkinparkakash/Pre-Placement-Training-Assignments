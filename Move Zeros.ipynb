{
  "cells": [
    {
      "cell_type": "code",
      "source": [
        "def moveZeroes(nums):\n",
        "    n = len(nums)\n",
        "    i = 0\n",
        "    \n",
        "    # Move non-zero elements to the front of the array\n",
        "    for j in range(n):\n",
        "        if nums[j] != 0:\n",
        "            nums[i], nums[j] = nums[j], nums[i]\n",
        "            i += 1\n",
        "    \n",
        "    # Set remaining elements to zero\n",
        "    for j in range(i, n):\n",
        "        nums[j] = 0\n",
        "\n",
        "# Test the function\n",
        "nums = [0, 1, 0, 3, 12]\n",
        "moveZeroes(nums)\n",
        "print(nums)  # Output: [1, 3, 12, 0, 0]"
      ],
      "metadata": {
        "id": "WZb17P--XMpn",
        "outputId": "b98c1566-3b9c-43dc-cf71-c44307e1fbf4",
        "colab": {
          "base_uri": "https://localhost:8080/"
        }
      },
      "execution_count": null,
      "outputs": [
        {
          "output_type": "stream",
          "name": "stdout",
          "text": [
            "[1, 3, 12, 0, 0]\n"
          ]
        }
      ]
    },
    {
      "cell_type": "code",
      "source": [],
      "metadata": {
        "id": "tLDoBwxkXPIw"
      },
      "execution_count": null,
      "outputs": []
    }
  ],
  "metadata": {
    "colab": {
      "toc_visible": true,
      "provenance": []
    },
    "kernelspec": {
      "display_name": "Python 3",
      "name": "python3"
    }
  },
  "nbformat": 4,
  "nbformat_minor": 0
}